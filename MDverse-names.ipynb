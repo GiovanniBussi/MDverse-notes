{
 "cells": [
  {
   "cell_type": "code",
   "execution_count": 1,
   "id": "0e1a1cc5",
   "metadata": {},
   "outputs": [],
   "source": [
    "import re"
   ]
  },
  {
   "cell_type": "markdown",
   "id": "fdea6553",
   "metadata": {},
   "source": [
    "From https://github.com/srnas/barnaba/blob/db22173b62e645cdfbe2bc886405dc5144ce4381/barnaba/definitions.py#L24\n"
   ]
  },
  {
   "cell_type": "code",
   "execution_count": 2,
   "id": "1acec259",
   "metadata": {},
   "outputs": [],
   "source": [
    "residue_dict = {'A': 'A', 'rA':'A','RA':'A','RA5':'A','RA3':'A','A3':'A','A5':'A',\\\n",
    "                'C': 'C', 'rC':'C','RC':'C','RC5':'C','RC3':'C','C3':'C','C5':'C',\\\n",
    "                'G': 'G', 'rG':'G','RG':'G','RG5':'G','RG3':'G','G3':'G','G5':'G',\\\n",
    "                'U': 'U', 'rU':'U','RU':'U','RU5':'U','RU3':'U','U3':'U','U5':'U',\\\n",
    "                'T': 'dT', 'dT':'dT','DT':'dT','DT5':'dT','DT3':'dT',\\\n",
    "                'dA':'dA','DA':'dA','DA5':'dA','DA3':'dA',\\\n",
    "                'dC':'dC','DC':'dC','DC5':'dC','DC3':'dC',\\\n",
    "                'dG':'dG','DG':'dG','DG5':'dG','DG3':'dG'}"
   ]
  },
  {
   "cell_type": "markdown",
   "id": "af2815d2",
   "metadata": {},
   "source": [
    "From https://github.com/srnas/barnaba/blob/db22173b62e645cdfbe2bc886405dc5144ce4381/barnaba/definitions.py#L33"
   ]
  },
  {
   "cell_type": "code",
   "execution_count": 3,
   "id": "bd2288a6",
   "metadata": {},
   "outputs": [],
   "source": [
    "modified_dict = {'1MA':'A','5AA':'A','P5P':'A','2MA':'A',\\\n",
    "                'OMC':'C','5MC':'C','CBV':'C',\\\n",
    "                '2MG':'G','YG':'G','7MG':'G','OMG':'G','1MG':'G','M2G':'G',\\\n",
    "                'H2U':'U','PSU':'U','OMU':'U','UR3':'U','5MU':'U','5BU':'U','4SU':'U'}\n",
    "\n",
    "# add 6MA, historically missing m6A\n",
    "modified_dict[\"6MA\"]=\"A\""
   ]
  },
  {
   "cell_type": "markdown",
   "id": "5f669a2a",
   "metadata": {},
   "source": [
    "From: https://github.com/MDverse/mdws/blob/main/params/residue_names.yml#L68-L103"
   ]
  },
  {
   "cell_type": "code",
   "execution_count": 4,
   "id": "4d996c86",
   "metadata": {},
   "outputs": [
    {
     "data": {
      "text/plain": [
       "['RA5',\n",
       " 'RA3',\n",
       " 'RAN',\n",
       " 'RU5',\n",
       " 'RU3',\n",
       " 'RUN',\n",
       " 'RG5',\n",
       " 'RG3',\n",
       " 'RGN',\n",
       " 'RC5',\n",
       " 'RC3',\n",
       " 'RCN',\n",
       " 'DA5',\n",
       " 'DA3',\n",
       " 'DAN',\n",
       " 'DT5',\n",
       " 'DT3',\n",
       " 'DTN',\n",
       " 'DG5',\n",
       " 'DG3',\n",
       " 'DGN',\n",
       " 'DC5',\n",
       " 'DC3',\n",
       " 'DCN',\n",
       " 'RA',\n",
       " 'RU',\n",
       " 'RC',\n",
       " 'DA',\n",
       " 'DT',\n",
       " 'DG',\n",
       " 'DC',\n",
       " 'G5',\n",
       " 'A',\n",
       " 'U',\n",
       " 'G',\n",
       " 'C']"
      ]
     },
     "execution_count": 4,
     "metadata": {},
     "output_type": "execute_result"
    }
   ],
   "source": [
    "original_list=\"\"\"\n",
    "- RA5\n",
    "- RA3\n",
    "- RAN\n",
    "- RU5\n",
    "- RU3\n",
    "- RUN\n",
    "- RG5\n",
    "- RG3\n",
    "- RGN\n",
    "- RC5\n",
    "- RC3\n",
    "- RCN\n",
    "- DA5\n",
    "- DA3\n",
    "- DAN\n",
    "- DT5\n",
    "- DT3\n",
    "- DTN\n",
    "- DG5\n",
    "- DG3\n",
    "- DGN\n",
    "- DC5\n",
    "- DC3\n",
    "- DCN\n",
    "- RA\n",
    "- RU\n",
    "- RC\n",
    "- DA\n",
    "- DT\n",
    "- DG\n",
    "- DC\n",
    "- G5\n",
    "- A\n",
    "- U\n",
    "- G\n",
    "- C\n",
    "\"\"\".split(\"- \")\n",
    "for i in range(len(original_list)):\n",
    "    original_list[i]=original_list[i].strip()\n",
    "original_list.remove(\"\")\n",
    "original_list"
   ]
  },
  {
   "cell_type": "code",
   "execution_count": 5,
   "id": "36f827c6",
   "metadata": {},
   "outputs": [],
   "source": [
    "# check if barnaba contains all names currently in mdverse:\n",
    "for i in range(len(original_list)):\n",
    "    if re.match(\".*N\",original_list[i]):\n",
    "        continue # skip individual nucleotides (not read in barnaba)\n",
    "    assert original_list[i] in residue_dict"
   ]
  },
  {
   "cell_type": "code",
   "execution_count": 6,
   "id": "c5fdf793",
   "metadata": {},
   "outputs": [
    {
     "name": "stdout",
     "output_type": "stream",
     "text": [
      "- rA\n",
      "- A3\n",
      "- A5\n",
      "- rC\n",
      "- C3\n",
      "- C5\n",
      "- rG\n",
      "- RG\n",
      "- G3\n",
      "- rU\n",
      "- U3\n",
      "- U5\n",
      "- T\n",
      "- dT\n",
      "- dA\n",
      "- dC\n",
      "- dG\n"
     ]
    }
   ],
   "source": [
    "# print missing names\n",
    "for r in residue_dict.keys():\n",
    "    if not r in original_list:\n",
    "        print(\"-\",r)"
   ]
  },
  {
   "cell_type": "code",
   "execution_count": 7,
   "id": "7cbc1d2d",
   "metadata": {},
   "outputs": [
    {
     "name": "stdout",
     "output_type": "stream",
     "text": [
      "- 1MA\n",
      "- 5AA\n",
      "- P5P\n",
      "- 2MA\n",
      "- OMC\n",
      "- 5MC\n",
      "- CBV\n",
      "- 2MG\n",
      "- YG\n",
      "- 7MG\n",
      "- OMG\n",
      "- 1MG\n",
      "- M2G\n",
      "- H2U\n",
      "- PSU\n",
      "- OMU\n",
      "- UR3\n",
      "- 5MU\n",
      "- 5BU\n",
      "- 4SU\n",
      "- 6MA\n"
     ]
    }
   ],
   "source": [
    "# print missing names\n",
    "for r in modified_dict.keys():\n",
    "    if not r in original_list:\n",
    "        print(\"-\",r)"
   ]
  }
 ],
 "metadata": {
  "kernelspec": {
   "display_name": "Python 3 (ipykernel)",
   "language": "python",
   "name": "python3"
  },
  "language_info": {
   "codemirror_mode": {
    "name": "ipython",
    "version": 3
   },
   "file_extension": ".py",
   "mimetype": "text/x-python",
   "name": "python",
   "nbconvert_exporter": "python",
   "pygments_lexer": "ipython3",
   "version": "3.9.13"
  }
 },
 "nbformat": 4,
 "nbformat_minor": 5
}
